{
 "cells": [
  {
   "cell_type": "markdown",
   "metadata": {
    "id": "eBDLA4yM3Dul"
   },
   "source": [
    "# Python Basic"
   ]
  },
  {
   "cell_type": "markdown",
   "metadata": {
    "id": "Xb62ADTH3grq"
   },
   "source": [
    "## Tipe Data"
   ]
  },
  {
   "cell_type": "markdown",
   "metadata": {
    "id": "pggWjV8_C1_c"
   },
   "source": [
    "Secara garis besar, terdapat dua tipe data pada Python, yaitu string dan numeric. Tipe data string ditandai dengan kutip satu ('string') atau kutip dua (\"sting\")"
   ]
  },
  {
   "cell_type": "code",
   "execution_count": 46,
   "metadata": {},
   "outputs": [
    {
     "name": "stdout",
     "output_type": "stream",
     "text": [
      "\n"
     ]
    }
   ],
   "source": [
    "print()"
   ]
  },
  {
   "cell_type": "markdown",
   "metadata": {},
   "source": [
    "Variabel dapat ditulis dengan apapun, selama tidak diawali dengan angka dan tidak sama dengan built in yg ada di Python. Variabel tidak boleh dipisahkan dengan spasi atau titik, hanya bisa dipisahkan dengan underscore"
   ]
  },
  {
   "cell_type": "code",
   "execution_count": 50,
   "metadata": {},
   "outputs": [],
   "source": [
    "firstName = 'ahmad'\n",
    "first_name = 'ahmad'"
   ]
  },
  {
   "cell_type": "markdown",
   "metadata": {},
   "source": [
    "Jika angka diassign sebagai string, maka kita tidak bisa menjumlahkan dua angka berbeda yg bertipe string"
   ]
  },
  {
   "cell_type": "code",
   "execution_count": 52,
   "metadata": {},
   "outputs": [
    {
     "name": "stdout",
     "output_type": "stream",
     "text": [
      "12\n"
     ]
    }
   ],
   "source": [
    "angka = '1'\n",
    "angka2 = '2'\n",
    "print(angka+angka2)"
   ]
  },
  {
   "cell_type": "markdown",
   "metadata": {},
   "source": [
    "Untuk memeriksa tipe sebuah data, bisa digunakan perintah type(data)"
   ]
  },
  {
   "cell_type": "code",
   "execution_count": 56,
   "metadata": {},
   "outputs": [
    {
     "name": "stdout",
     "output_type": "stream",
     "text": [
      "<class 'str'>\n",
      "<class 'str'>\n"
     ]
    }
   ],
   "source": [
    "a = '2'\n",
    "print(type(a))\n",
    "print(type('2'))"
   ]
  },
  {
   "cell_type": "code",
   "execution_count": 69,
   "metadata": {
    "colab": {
     "base_uri": "https://localhost:8080/"
    },
    "id": "livvNd5Lps2m",
    "outputId": "3cab133b-cad3-4366-b48d-084a86760bac"
   },
   "outputs": [
    {
     "name": "stdout",
     "output_type": "stream",
     "text": [
      "country: Indonesia\n",
      "phone code: +62\n"
     ]
    }
   ],
   "source": [
    "# string\n",
    "\n",
    "country = 'Indonesia'\n",
    "phoneCode = \"+62\"\n",
    "\n",
    "# print(country)\n",
    "\n",
    "# print('country:', country)\n",
    "# print('phone code:', phoneCode)\n",
    "# print()\n",
    "# print('\\ncountry data type:', type(country)) # mencetak tipe data dari country\n",
    "# print('phoneCode data type:', type(phoneCode))\n",
    "# print()\n",
    "\n",
    "print('country: ' + country)\n",
    "print('phone code: ' + phoneCode)\n",
    "\n",
    "# print('angka ' + 2.2)"
   ]
  },
  {
   "cell_type": "code",
   "execution_count": 72,
   "metadata": {},
   "outputs": [
    {
     "name": "stdout",
     "output_type": "stream",
     "text": [
      "UINUIN\n"
     ]
    }
   ],
   "source": [
    "kampus = 'UIN'\n",
    "\n",
    "print(kampus*2)"
   ]
  },
  {
   "cell_type": "markdown",
   "metadata": {
    "id": "kCPFLswqDTdr"
   },
   "source": [
    "Tipe data numeric terbagi dua, yaitu integer dan float. Integer adalah bilangan bulat, positif dan negatif. Sementara float adalah bilangan desimal. Untuk menuliskan angka bertipe integer atau float hanya cukup menuliskan angka saja"
   ]
  },
  {
   "cell_type": "code",
   "execution_count": 92,
   "metadata": {
    "colab": {
     "base_uri": "https://localhost:8080/"
    },
    "id": "lcZ-WYiBpxoV",
    "outputId": "59e7ef7b-7ea6-4117-e244-fc1827b17523"
   },
   "outputs": [
    {
     "name": "stdout",
     "output_type": "stream",
     "text": [
      "-0.5\n"
     ]
    }
   ],
   "source": [
    "# numeric\n",
    "\n",
    "x = 2 # integer\n",
    "y = -3 # integer\n",
    "z = 0.5 # float\n",
    "result = x+y-z\n",
    "\n",
    "# print('hasil x + y - z:', result)\n",
    "# print('hasil x + y + z:', x+y+z)\n",
    "# print('hasil x + y / z:', x+y/z)\n",
    "# print('hasil z + x * y:', (z+x)*y)\n",
    "# print('hasil y - x^z:', y-z**x)\n",
    "\n",
    "print(x+y+z)\n",
    "# print()\n",
    "\n",
    "# print(type(x))\n",
    "# print(type(y))\n",
    "# print(type(z))"
   ]
  },
  {
   "cell_type": "code",
   "execution_count": 88,
   "metadata": {},
   "outputs": [
    {
     "name": "stdout",
     "output_type": "stream",
     "text": [
      "2\n"
     ]
    }
   ],
   "source": [
    "# untuk melakukan operasi perhitungan pangkat ditulis dengan variabel**pangkat\n",
    "\n",
    "# print(2+(3-5)**2)\n",
    "\n",
    "# pembagian\n",
    "print(5//2)"
   ]
  },
  {
   "cell_type": "markdown",
   "metadata": {
    "id": "QF7a67mgD6La"
   },
   "source": [
    "Tipe data string, jika ia adalah angka maka dapat diubah menjadi integer atau float. Begitu sebaliknya, tipe data integer atau float dapat diubah menjadi string."
   ]
  },
  {
   "cell_type": "code",
   "execution_count": 95,
   "metadata": {
    "colab": {
     "base_uri": "https://localhost:8080/"
    },
    "id": "rEfuJZyY5ecw",
    "outputId": "af7eb782-df67-449a-8897-466d8855c980"
   },
   "outputs": [
    {
     "name": "stdout",
     "output_type": "stream",
     "text": [
      "old a: 2021 , and its type:  <class 'str'>\n",
      "old b: 62 , and its type:  <class 'int'>\n",
      "\n",
      "new a: 2021 , and its type: <class 'int'>\n",
      "new a: 62 , and its type: <class 'str'>\n",
      "\n",
      "new b: 62.0 and its type: <class 'float'>\n"
     ]
    }
   ],
   "source": [
    "a = '2021'\n",
    "b = 62\n",
    "\n",
    "print('old a:', a, ', and its type: ', type(a))\n",
    "print('old b:', b, ', and its type: ', type(b))\n",
    "\n",
    "# change a and b type\n",
    "a = int(a)\n",
    "b = str(b)\n",
    "\n",
    "print()\n",
    "print('new a:', a, ', and its type:', type(a))\n",
    "print('new a:', b, ', and its type:', type(b))\n",
    "\n",
    "b = float(b)\n",
    "\n",
    "print()\n",
    "print('new b:', b, 'and its type:', type(b))"
   ]
  },
  {
   "cell_type": "markdown",
   "metadata": {
    "id": "PGRjfAShAIKS"
   },
   "source": [
    "## List, Tuple and Dictionary"
   ]
  },
  {
   "cell_type": "markdown",
   "metadata": {
    "id": "1q4LOcBwCmgR"
   },
   "source": [
    "List adalah sebuah container yang dapat menampung berbagai tipe data. List biasanya ditandai dengan []. List bersifat mutable, artinya elemen list dapat diubah. Elemen list dapat diakses menggunakan perintah listName[index] dengan index dimulai dari 0"
   ]
  },
  {
   "cell_type": "code",
   "execution_count": 116,
   "metadata": {
    "colab": {
     "base_uri": "https://localhost:8080/"
    },
    "id": "MCQqHIF7qbWc",
    "outputId": "5a09fd8d-863e-4bc1-f2d5-d1bf6beff4f8"
   },
   "outputs": [
    {
     "name": "stdout",
     "output_type": "stream",
     "text": [
      "old ls: [1, 2, '3', 'Jakarta', -3.2, 0.03]\n",
      "new ls: ['Jakarta', 'Indonesia', '3', 'Jakarta', -3.2, 0.03]\n",
      "['Jakarta', 10, 'Indonesia', '3', 'Jakarta', -3.2, 0.03]\n"
     ]
    }
   ],
   "source": [
    "# list\n",
    "ls = [1, 2, '3', 'Jakarta', -3.2, 0.03]\n",
    "# print('list ls:', ls)\n",
    "# print('first element in ls:', ls[-1])\n",
    "# print('third to last elements in ls:', ls[2:])\n",
    "# print(len(ls))\n",
    "# print()\n",
    "\n",
    "# list is mutable, you can change any element in a list\n",
    "print('old ls:', ls)\n",
    "ls[1] = 'Indonesia'\n",
    "ls[0] = ls[3]\n",
    "print('new ls:', ls)\n",
    "\n",
    "ls.insert(1, 10)\n",
    "print(ls)"
   ]
  },
  {
   "cell_type": "markdown",
   "metadata": {},
   "source": [
    "Slicing dapat dilakukan dengan perintah listName[startIndex:stopBeforeIndex:step]. Jika kita tidak menulis step nya, maka secara default adalah 1"
   ]
  },
  {
   "cell_type": "code",
   "execution_count": 109,
   "metadata": {},
   "outputs": [
    {
     "name": "stdout",
     "output_type": "stream",
     "text": [
      "third to last elements in ls: ['3', 'Jakarta', -3.2, 0.03]\n",
      "first to last elements in ls with step 2: [1, '3', -3.2]\n"
     ]
    }
   ],
   "source": [
    "print('third to last elements in ls:', ls[2:])\n",
    "# print('third to last elements in ls:', ls[2:6])\n",
    "\n",
    "# print()\n",
    "\n",
    "print('first to last elements in ls with step 2:', ls[::2])"
   ]
  },
  {
   "cell_type": "markdown",
   "metadata": {},
   "source": [
    "Tuple mirip dengan list, ditandai dengan () tapi tuple tidak mutable"
   ]
  },
  {
   "cell_type": "code",
   "execution_count": 120,
   "metadata": {
    "colab": {
     "base_uri": "https://localhost:8080/",
     "height": 282
    },
    "id": "iXCtNxmdBAca",
    "outputId": "f53098b5-4b38-4121-d5de-a19730381e1f"
   },
   "outputs": [
    {
     "ename": "TypeError",
     "evalue": "'tuple' object does not support item assignment",
     "output_type": "error",
     "traceback": [
      "\u001b[1;31m---------------------------------------------------------------------------\u001b[0m",
      "\u001b[1;31mTypeError\u001b[0m                                 Traceback (most recent call last)",
      "\u001b[1;32m<ipython-input-120-a112aeb9d07a>\u001b[0m in \u001b[0;36m<module>\u001b[1;34m\u001b[0m\n\u001b[0;32m      6\u001b[0m \u001b[1;33m\u001b[0m\u001b[0m\n\u001b[0;32m      7\u001b[0m \u001b[1;31m# tuple is immutable\u001b[0m\u001b[1;33m\u001b[0m\u001b[1;33m\u001b[0m\u001b[1;33m\u001b[0m\u001b[0m\n\u001b[1;32m----> 8\u001b[1;33m \u001b[0mtup\u001b[0m\u001b[1;33m[\u001b[0m\u001b[1;36m2\u001b[0m\u001b[1;33m]\u001b[0m \u001b[1;33m=\u001b[0m \u001b[1;36m100\u001b[0m\u001b[1;33m\u001b[0m\u001b[1;33m\u001b[0m\u001b[0m\n\u001b[0m\u001b[0;32m      9\u001b[0m \u001b[0mprint\u001b[0m\u001b[1;33m(\u001b[0m\u001b[1;34m'new tup: '\u001b[0m\u001b[1;33m,\u001b[0m \u001b[0mtup\u001b[0m\u001b[1;33m)\u001b[0m\u001b[1;33m\u001b[0m\u001b[1;33m\u001b[0m\u001b[0m\n",
      "\u001b[1;31mTypeError\u001b[0m: 'tuple' object does not support item assignment"
     ]
    }
   ],
   "source": [
    "# tuple\n",
    "tup = ('Indonesia', 62, -1.4, 'Jakarta')\n",
    "# print('tuple tup:', tup)\n",
    "# print('second element in tup:', tup[1])\n",
    "# print('first to third elements in tup:', tup[:3])\n",
    "\n",
    "# tuple is immutable\n",
    "tup[2] = 100\n",
    "print('new tup: ', tup)"
   ]
  },
  {
   "cell_type": "markdown",
   "metadata": {
    "id": "BNaj1WUorU1z"
   },
   "source": [
    "Dictionary adalah sebuah container yg berisi pasangan key-value. Layaknya kamus yg kita ketahui, kata kunci atau key harus unik, sementara untuk value nya tidak harus unik. Value dari sebuah key tidak hanya berbentuk value tunggal seperti string, namun bisa juga berbentuk sebuah list, tuple atau bahkan dictionary lainnya"
   ]
  },
  {
   "cell_type": "code",
   "execution_count": 125,
   "metadata": {
    "colab": {
     "base_uri": "https://localhost:8080/"
    },
    "id": "h9MnNReJCSkZ",
    "outputId": "db5d8a31-bd5d-478d-a28d-3d2fc7dd6fa2"
   },
   "outputs": [
    {
     "name": "stdout",
     "output_type": "stream",
     "text": [
      "Key of Capital City Dictionary: ['Indonesia', 'Malaysia', 'Japan', 'England']\n",
      "Value of Capital City Dictionary: dict_values(['Jakarta', 'Kuala Lumpur', 'Tokyo', 'London'])\n"
     ]
    }
   ],
   "source": [
    "# dictionary\n",
    "capitalCityDict = {'Indonesia': 'Jakarta',\n",
    "                   'Malaysia': 'Kuala Lumpur',\n",
    "                   'Japan': 'Tokyo',\n",
    "                   'England': 'London'}\n",
    "\n",
    "# print('Capital City Dictionary:', capitalCityDict)\n",
    "# print('Capital City of Japan:', capitalCityDict['Japan'])\n",
    "\n",
    "# # update dictionary\n",
    "# capitalCityDict['Italy'] = 'Rome'\n",
    "# print('New Capital City Dictionary:', capitalCityDict)\n",
    "\n",
    "# # dictionary keys and value\n",
    "print('Key of Capital City Dictionary:', list(capitalCityDict.keys()))\n",
    "print('Value of Capital City Dictionary:', capitalCityDict.values())"
   ]
  },
  {
   "cell_type": "code",
   "execution_count": 128,
   "metadata": {
    "colab": {
     "base_uri": "https://localhost:8080/"
    },
    "id": "XUyovh14r7Ik",
    "outputId": "823d521c-5623-4aa2-d37e-fd367efe2ee6"
   },
   "outputs": [
    {
     "name": "stdout",
     "output_type": "stream",
     "text": [
      "Negara Asia: Malaysia\n"
     ]
    }
   ],
   "source": [
    "continentDict = {'Asia': ['Indonesia', 'Jepang', 'Malaysia', 'Qatar'],\n",
    "                 'Eropa': ['Inggris', 'Italia', 'Jerman'],\n",
    "                 }\n",
    "\n",
    "# print('Continent Dictionary:', continentDict)\n",
    "# print('Negara-negara Eropa:', continentDict['Eropa'])\n",
    "print('Negara Asia:', continentDict['Asia'][2])"
   ]
  },
  {
   "cell_type": "markdown",
   "metadata": {
    "id": "dR4w-tXdGIyB"
   },
   "source": [
    "## Branch (If, Elif, Else)"
   ]
  },
  {
   "cell_type": "code",
   "execution_count": 131,
   "metadata": {
    "colab": {
     "base_uri": "https://localhost:8080/"
    },
    "id": "A0ZAXCfIGL_K",
    "outputId": "69ca1cf4-32ad-452b-d245-eab53ae79809"
   },
   "outputs": [
    {
     "name": "stdout",
     "output_type": "stream",
     "text": [
      "x bukan dua\n"
     ]
    }
   ],
   "source": [
    "# if else\n",
    "x = 3\n",
    "if x == 2:\n",
    "    print('x adalah dua')\n",
    "else:\n",
    "    print('x bukan dua')"
   ]
  },
  {
   "cell_type": "code",
   "execution_count": 135,
   "metadata": {
    "colab": {
     "base_uri": "https://localhost:8080/"
    },
    "id": "netKOOn0Gkc5",
    "outputId": "b8f44f5f-1c21-4f6b-f2c1-14e54f975eda"
   },
   "outputs": [
    {
     "name": "stdout",
     "output_type": "stream",
     "text": [
      "Nilai anda adalah B\n"
     ]
    }
   ],
   "source": [
    "# if elif else\n",
    "nilai = 73\n",
    "\n",
    "if nilai < 70:\n",
    "    print('Nilai anda adalah C')\n",
    "elif nilai < 80:\n",
    "    print('Nilai anda adalah B')\n",
    "else:\n",
    "    print('Nilai anda adalah A')"
   ]
  },
  {
   "cell_type": "markdown",
   "metadata": {
    "id": "FNnKSj5iFyAS"
   },
   "source": [
    "## For and While Loop"
   ]
  },
  {
   "cell_type": "markdown",
   "metadata": {
    "id": "uYA2pvnuIWQy"
   },
   "source": [
    "for loop secara umum adalah melakukan looping atau pengulangan sebanyak n interasi atau bisa juga untuk melakukan looping untuk setiap elemen pada sebuah container (list, tuple atau dictionary). for loop dapat ditulis dengan perintah:\n",
    "\n",
    "for i in range(start, stop_before, step)\n",
    "\n",
    "atau\n",
    "\n",
    "for item in listName"
   ]
  },
  {
   "cell_type": "code",
   "execution_count": 137,
   "metadata": {
    "colab": {
     "base_uri": "https://localhost:8080/"
    },
    "id": "xvXweCJgF20K",
    "outputId": "566f2aef-fc91-4d9a-82ba-86265f99f546"
   },
   "outputs": [
    {
     "name": "stdout",
     "output_type": "stream",
     "text": [
      "0\n",
      "1\n",
      "2\n",
      "3\n",
      "4\n"
     ]
    }
   ],
   "source": [
    "# for loop\n",
    "for i in range(5):\n",
    "    print(i)"
   ]
  },
  {
   "cell_type": "code",
   "execution_count": 138,
   "metadata": {
    "colab": {
     "base_uri": "https://localhost:8080/"
    },
    "id": "raRzbZ7YJFF7",
    "outputId": "0d609e55-2c6d-4a72-aaf3-e91da8aaff30"
   },
   "outputs": [
    {
     "name": "stdout",
     "output_type": "stream",
     "text": [
      "Indonesia\n",
      "1\n",
      "Jakarta\n",
      "-9.3\n"
     ]
    }
   ],
   "source": [
    "ls = ['Indonesia', 1, 'Jakarta', -9.3]\n",
    "\n",
    "for item in ls:\n",
    "    print(item)"
   ]
  },
  {
   "cell_type": "markdown",
   "metadata": {
    "id": "i_J1g0HgJR8j"
   },
   "source": [
    "while loop adalah melakukan pengulangan selama sebuah kondisi terpenuhi. Untuk mencegah terjadinya pengulangan terus menerus, kita harus memberikan batasan kondisi dimana ketika batasan itu terpenuhi maka pengulangan akan berhenti"
   ]
  },
  {
   "cell_type": "code",
   "execution_count": 32,
   "metadata": {
    "colab": {
     "base_uri": "https://localhost:8080/"
    },
    "id": "u4uEWKvUF66x",
    "outputId": "5adaa33b-1c68-489f-c327-bc1b8f4fbf65"
   },
   "outputs": [
    {
     "name": "stdout",
     "output_type": "stream",
     "text": [
      "0\n",
      "1\n",
      "2\n",
      "3\n",
      "Loop stopped\n"
     ]
    }
   ],
   "source": [
    "i = 0\n",
    "while i >= 0:\n",
    "    print(i)\n",
    "    if i == 3:\n",
    "        print('Loop stopped')\n",
    "        break # stop looping\n",
    "    i+=1"
   ]
  },
  {
   "cell_type": "markdown",
   "metadata": {
    "id": "8Ae70mWvJ9LY"
   },
   "source": [
    "## Fungsi"
   ]
  },
  {
   "cell_type": "markdown",
   "metadata": {
    "id": "tXVmgABXJ_eg"
   },
   "source": [
    "Fungsi pada Python ditulis dengan def functionName(argument). Sebuah fungsi dapat mengembalikan sebuah nilai jika diperlukan"
   ]
  },
  {
   "cell_type": "code",
   "execution_count": 139,
   "metadata": {
    "id": "9VODtfdGKKeo"
   },
   "outputs": [],
   "source": [
    "def add(x,y):\n",
    "    return x+y"
   ]
  },
  {
   "cell_type": "code",
   "execution_count": 141,
   "metadata": {
    "colab": {
     "base_uri": "https://localhost:8080/"
    },
    "id": "2pqMRg1-J-Zo",
    "outputId": "bd92898f-86fa-4106-8da2-f1933d6d3ecf"
   },
   "outputs": [
    {
     "name": "stdout",
     "output_type": "stream",
     "text": [
      "5\n"
     ]
    }
   ],
   "source": [
    "result = add(2,3)\n",
    "print(result)"
   ]
  },
  {
   "cell_type": "markdown",
   "metadata": {
    "id": "ulfbe_zbKXSG"
   },
   "source": [
    "Di dalam sebuah fungsi, kita dapat mengisi dengan branch (if, elif, else) atau loop (for and while)"
   ]
  },
  {
   "cell_type": "code",
   "execution_count": 143,
   "metadata": {
    "id": "buBVHBTdKgup"
   },
   "outputs": [],
   "source": [
    "def printNilai(nilai):\n",
    "    while nilai >= 60:\n",
    "    # if nilai < 60:\n",
    "    #   print('Nilai anda adalah D')\n",
    "        if niali < 70:\n",
    "            print('Nilai anda adalah C')\n",
    "        elif nilai <80:\n",
    "            print('Nilai anda adalah B')\n",
    "        else:\n",
    "            print('Nilai anda adalah A')\n",
    "    else:\n",
    "        print('Anda harus mengulang mata kuliah tahun depan')"
   ]
  },
  {
   "cell_type": "code",
   "execution_count": 144,
   "metadata": {
    "colab": {
     "base_uri": "https://localhost:8080/"
    },
    "id": "DuxwUK0ULYXr",
    "outputId": "d0877c41-a52c-4de8-effa-dfa3165dd048"
   },
   "outputs": [
    {
     "name": "stdout",
     "output_type": "stream",
     "text": [
      "Anda harus mengulang mata kuliah tahun depan\n"
     ]
    }
   ],
   "source": [
    "printNilai(50)"
   ]
  },
  {
   "cell_type": "markdown",
   "metadata": {
    "id": "j0hRdAVfPuPF"
   },
   "source": [
    "## Numpy"
   ]
  },
  {
   "cell_type": "markdown",
   "metadata": {
    "id": "MlkLKsM5P0HR"
   },
   "source": [
    "NumPy (Numerical Python) adalah library Python yang fokus pada numerical computing. NumPy memiliki kemampuan untuk membentuk objek N-dimensional array, yang mirip dengan list pada Python. Keunggulan NumPy array dibandingkan dengan list pada Python adalah konsumsi memory yang lebih kecil serta runtime yang lebih cepat. NumPy juga memudahkan kita pada Aljabar Linear, terutama operasi pada Vector (1-d array) dan Matrix (2-d array)."
   ]
  },
  {
   "cell_type": "code",
   "execution_count": 145,
   "metadata": {
    "colab": {
     "base_uri": "https://localhost:8080/"
    },
    "id": "MF6EKfyOQQnh",
    "outputId": "65afee3a-9864-4ba7-b4bb-fc0b195dbb9f"
   },
   "outputs": [
    {
     "name": "stdout",
     "output_type": "stream",
     "text": [
      "hasil ls1 + ls2: [1, 2, 3, 4, 5, 6]\n"
     ]
    }
   ],
   "source": [
    "# list python vs numpy array\n",
    "ls1 = [1, 2, 3]\n",
    "ls2 = [4, 5, 6]\n",
    "result = ls1 + ls2\n",
    "print('hasil ls1 + ls2:', ls1+ls2)"
   ]
  },
  {
   "cell_type": "markdown",
   "metadata": {
    "id": "EhsrwWd-QiIg"
   },
   "source": [
    "Pada list, jika kita melakukan operasi penjumlahan dengan perintah list1 + list2, maka operasi itu akan memasukkan elemen list2 ke dalam list1. List tidak berperan sebagai array atau vektor"
   ]
  },
  {
   "cell_type": "markdown",
   "metadata": {
    "id": "P7bI6YwSQ0zC"
   },
   "source": [
    "Namun pada Numpy, kita dapat melakukan operasi yg umumnya dilakukan pada array atau vektor seperti penjumlahan, perkalian dan sebagainya"
   ]
  },
  {
   "cell_type": "code",
   "execution_count": 146,
   "metadata": {
    "colab": {
     "base_uri": "https://localhost:8080/"
    },
    "id": "QJSjva7tPvyq",
    "outputId": "06f130ba-161b-4518-b246-73a7f8c7b48d"
   },
   "outputs": [
    {
     "name": "stdout",
     "output_type": "stream",
     "text": [
      "hasil penjumlahan arr1 dan arr2: [ 6  8 10 12]\n",
      "hasil perkalian tiap elemen arr1 dan arr2: [ 5 12 21 32]\n",
      "hasil perkalian skalar arr1 dengan 2: [2 4 6 8]\n",
      "hasil dot product arr1 dan arr2: 70\n"
     ]
    }
   ],
   "source": [
    "# import library\n",
    "import numpy as np\n",
    "\n",
    "arr1 = np.array([1, 2, 3, 4])\n",
    "arr2 = np.array([5, 6, 7, 8])\n",
    "\n",
    "addResult = arr1+arr2\n",
    "mulResult = arr1*arr2\n",
    "scalarResult = 2*arr1\n",
    "dotResult = np.dot(arr1, arr2)\n",
    "\n",
    "print('hasil penjumlahan arr1 dan arr2:', addResult)\n",
    "print('hasil perkalian tiap elemen arr1 dan arr2:', mulResult)\n",
    "print('hasil perkalian skalar arr1 dengan 2:', scalarResult)\n",
    "print('hasil dot product arr1 dan arr2:', dotResult)"
   ]
  },
  {
   "cell_type": "markdown",
   "metadata": {
    "id": "L8ro0j2BRWMB"
   },
   "source": [
    "Kita dapat melakukan indexing atau slicing serta memodifikasi array selayaknya pada sebuah list"
   ]
  },
  {
   "cell_type": "code",
   "execution_count": 147,
   "metadata": {
    "colab": {
     "base_uri": "https://localhost:8080/"
    },
    "id": "PkmWsShsRcBY",
    "outputId": "460baa4f-b280-4cd5-d1ed-ddbcde42584d"
   },
   "outputs": [
    {
     "name": "stdout",
     "output_type": "stream",
     "text": [
      "1\n",
      "[6 7]\n",
      "[ 1  2 10  4]\n"
     ]
    }
   ],
   "source": [
    "print(arr1[0])\n",
    "print(arr2[1:3])\n",
    "arr1[2] = 10\n",
    "print(arr1)"
   ]
  },
  {
   "cell_type": "markdown",
   "metadata": {
    "id": "3zBhG6-cSN1C"
   },
   "source": [
    "Kita dapat memeriksa ukuran nxm sebuah numpy array"
   ]
  },
  {
   "cell_type": "code",
   "execution_count": 40,
   "metadata": {
    "colab": {
     "base_uri": "https://localhost:8080/"
    },
    "id": "fBMH-9HOSVEr",
    "outputId": "7d1beb98-547d-4778-f0c2-4ad04ae19227"
   },
   "outputs": [
    {
     "name": "stdout",
     "output_type": "stream",
     "text": [
      "(4,)\n"
     ]
    }
   ],
   "source": [
    "print(arr1.shape)"
   ]
  },
  {
   "cell_type": "markdown",
   "metadata": {
    "id": "ZKd1jTOcS1h4"
   },
   "source": [
    "Numpy dapat berbentuk 2 dimensi"
   ]
  },
  {
   "cell_type": "code",
   "execution_count": 148,
   "metadata": {
    "colab": {
     "base_uri": "https://localhost:8080/"
    },
    "id": "84AEA77YSisZ",
    "outputId": "97d64b47-0e2d-465c-9804-18613ff3c7e8"
   },
   "outputs": [
    {
     "name": "stdout",
     "output_type": "stream",
     "text": [
      "[[1 2 3 4]\n",
      " [5 6 7 8]]\n",
      "(2, 4)\n",
      "7\n"
     ]
    }
   ],
   "source": [
    "arr3 = np.array([[1, 2, 3, 4],\n",
    "                 [5, 6, 7, 8]])\n",
    "print(arr3)\n",
    "print(arr3.shape)\n",
    "print(arr3[1,2])"
   ]
  },
  {
   "cell_type": "markdown",
   "metadata": {
    "id": "_NdqebxEW2jp"
   },
   "source": [
    "## Visualization with Matplotlib"
   ]
  },
  {
   "cell_type": "code",
   "execution_count": 149,
   "metadata": {
    "id": "1Z8XgOvRW5Px"
   },
   "outputs": [],
   "source": [
    "import matplotlib.pyplot as plt"
   ]
  },
  {
   "cell_type": "code",
   "execution_count": 152,
   "metadata": {
    "colab": {
     "base_uri": "https://localhost:8080/",
     "height": 295
    },
    "id": "0xvdjAjLW-EX",
    "outputId": "8ed34956-0fd2-4b02-8bc3-9f2f2214a2d0"
   },
   "outputs": [
    {
     "data": {
      "image/png": "[encoded data removed]",
      "text/plain": [
       "<Figure size 432x288 with 1 Axes>"
      ]
     },
     "metadata": {
      "needs_background": "light"
     },
     "output_type": "display_data"
    }
   ],
   "source": [
    "x = np.arange(1,11) \n",
    "y = x**2\n",
    "\n",
    "plt.plot(x,y, color='b') \n",
    "plt.xlabel(\"x\") \n",
    "plt.ylabel(\"y\") \n",
    "plt.title(\"Qudaratic Curve\") \n",
    "plt.show()"
   ]
  },
  {
   "cell_type": "code",
   "execution_count": 24,
   "metadata": {
    "colab": {
     "base_uri": "https://localhost:8080/",
     "height": 295
    },
    "id": "-bTf1HKZipJq",
    "outputId": "0faaf775-6379-48ad-dbc3-f2f64176ae47"
   },
   "outputs": [
    {
     "data": {
      "image/png": "[encoded data removed]",
      "text/plain": [
       "<Figure size 432x288 with 1 Axes>"
      ]
     },
     "metadata": {
      "needs_background": "light"
     },
     "output_type": "display_data"
    }
   ],
   "source": [
    "x = np.arange(1,11) \n",
    "y = x**2\n",
    "\n",
    "plt.title(\"Qudaratic Curve\") \n",
    "plt.xlabel(\"x\") \n",
    "plt.ylabel(\"y\") \n",
    "plt.scatter(x,y, color='m') \n",
    "plt.show()"
   ]
  },
  {
   "cell_type": "code",
   "execution_count": 153,
   "metadata": {
    "colab": {
     "base_uri": "https://localhost:8080/",
     "height": 295
    },
    "id": "TYZCaAfZjKTJ",
    "outputId": "14f28e79-b311-404c-d68a-9dcfc7c82d06"
   },
   "outputs": [
    {
     "data": {
      "image/png": "[encoded data removed]",
      "text/plain": [
       "<Figure size 432x288 with 1 Axes>"
      ]
     },
     "metadata": {
      "needs_background": "light"
     },
     "output_type": "display_data"
    }
   ],
   "source": [
    "x = np.arange(1,11) \n",
    "y = x**2\n",
    "\n",
    "plt.title(\"Qudaratic Curve\") \n",
    "plt.xlabel(\"x\") \n",
    "plt.ylabel(\"y\") \n",
    "plt.plot(x,y, color='g', linestyle='--') \n",
    "plt.show()"
   ]
  },
  {
   "cell_type": "code",
   "execution_count": 155,
   "metadata": {
    "colab": {
     "base_uri": "https://localhost:8080/",
     "height": 527
    },
    "id": "WpqPYwUygWGR",
    "outputId": "be23423e-beeb-437e-df51-f8c86f3d11cf"
   },
   "outputs": [
    {
     "data": {
      "image/png": "[encoded data removed]",
      "text/plain": [
       "<Figure size 720x576 with 1 Axes>"
      ]
     },
     "metadata": {
      "needs_background": "light"
     },
     "output_type": "display_data"
    }
   ],
   "source": [
    "# Compute the x and y coordinates for points on a sine curve \n",
    "fig, ax = plt.subplots(figsize=(10,8))\n",
    "x = np.arange(0, 3 * np.pi, 0.1) \n",
    "y = np.sin(x) \n",
    "# print(y)\n",
    "plt.title(\"Sine Wave Form\", size=16) \n",
    "\n",
    "# Plot the points using matplotlib \n",
    "ax.plot(x, y)\n",
    "ax.set_xlabel('x', size=13)\n",
    "ax.set_ylabel('sin (x)', size=13)\n",
    "ax.tick_params(size=13) \n",
    "plt.show() "
   ]
  },
  {
   "cell_type": "code",
   "execution_count": 159,
   "metadata": {
    "colab": {
     "base_uri": "https://localhost:8080/",
     "height": 627
    },
    "id": "Coj06m8EggFZ",
    "outputId": "830cdc5b-3e6d-4bd4-94cb-1fd1aceb95bc"
   },
   "outputs": [
    {
     "name": "stderr",
     "output_type": "stream",
     "text": [
      "<ipython-input-159-bc97f940322e>:13: UserWarning: FixedFormatter should only be used together with FixedLocator\n",
      "  ax.set_xticklabels(labels=['', '2016', '2017', '2018', '2019', '2020'])\n"
     ]
    },
    {
     "data": {
      "image/png": "[encoded data removed]",
      "text/plain": [
       "<Figure size 576x720 with 1 Axes>"
      ]
     },
     "metadata": {
      "needs_background": "light"
     },
     "output_type": "display_data"
    }
   ],
   "source": [
    "fig, ax = plt.subplots(figsize=(8,10))\n",
    "\n",
    "x = np.arange(5) \n",
    "pria = [34, 56, 12, 89, 67] \n",
    "wanita = [12, 56, 78, 45, 90] \n",
    "width = 0.40\n",
    "  \n",
    "# plot data in grouped manner of bar type \n",
    "ax.bar(x-0.2, pria, width, label='Pria') \n",
    "ax.bar(x+0.2, wanita, width, label='Wanita') \n",
    "ax.set_xlabel('Tahun Angkatan', size=12)\n",
    "ax.set_ylabel('Jumlah Mahasiswa', size=12)\n",
    "ax.set_xticklabels(labels=['', '2016', '2017', '2018', '2019', '2020'])\n",
    "ax.legend()\n",
    "\n",
    "plt.title('Jumlah Mahasiswa Pria dan Wanita Angkatan 2016-2020', size=16)\n",
    "plt.show()"
   ]
  },
  {
   "cell_type": "code",
   "execution_count": 160,
   "metadata": {
    "colab": {
     "base_uri": "https://localhost:8080/",
     "height": 446
    },
    "id": "2fJTtEPgpifL",
    "outputId": "757ca909-6b29-4c7c-da5e-bb89826cae06"
   },
   "outputs": [
    {
     "data": {
      "image/png": "[encoded data removed]",
      "text/plain": [
       "<Figure size 720x504 with 1 Axes>"
      ]
     },
     "metadata": {
      "needs_background": "light"
     },
     "output_type": "display_data"
    }
   ],
   "source": [
    "# Creating dataset \n",
    "data = np.array([20, 21, 30, 32, 21, 28, 25, 27, 29, 19, 33, 25]) \n",
    "  \n",
    "fig, ax = plt.subplots(figsize=(10, 7)) \n",
    "  \n",
    "# Creating plot \n",
    "ax.boxplot(data)\n",
    "plt.title('Contoh Box Plot', size='16')\n",
    "ax.set_ylabel('Umur Pegawai', size=12) \n",
    "\n",
    "# show plot \n",
    "plt.show() "
   ]
  }
 ],
 "metadata": {
  "colab": {
   "collapsed_sections": [],
   "name": "Python Basic_Fisika Komputasi.ipynb",
   "provenance": []
  },
  "kernelspec": {
   "display_name": "Python 3",
   "language": "python",
   "name": "python3"
  },
  "language_info": {
   "codemirror_mode": {
    "name": "ipython",
    "version": 3
   },
   "file_extension": ".py",
   "mimetype": "text/x-python",
   "name": "python",
   "nbconvert_exporter": "python",
   "pygments_lexer": "ipython3",
   "version": "3.8.5"
  }
 },
 "nbformat": 4,
 "nbformat_minor": 1
}
